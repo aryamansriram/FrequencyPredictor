{
 "cells": [
  {
   "cell_type": "markdown",
   "metadata": {},
   "source": [
    "# Model Exploration Notebook\n",
    "\n",
    "This notebook gives details about the various techniques tried out during the course of this assignment"
   ]
  },
  {
   "cell_type": "markdown",
   "metadata": {},
   "source": [
    "1. Import Libraries"
   ]
  },
  {
   "cell_type": "code",
   "execution_count": 1,
   "metadata": {},
   "outputs": [],
   "source": [
    "import numpy as np\n",
    "import pandas as pd\n",
    "from sklearn.model_selection import train_test_split\n",
    "import xgboost\n",
    "from tensorflow.keras.layers import Dense,Input,LSTM,Embedding,GRU\n",
    "from tensorflow.keras.models import Sequential,Model\n",
    "from tensorflow.keras.callbacks import ModelCheckpoint\n",
    "from tensorflow.keras.losses import MeanSquaredError\n",
    "from tensorflow.keras.optimizers import Nadam,Adam,RMSprop,SGD\n",
    "from tensorflow.random import set_seed\n",
    "import matplotlib.pyplot as plt\n",
    "import seaborn as sns\n",
    "from sklearn.model_selection import KFold\n"
   ]
  },
  {
   "cell_type": "markdown",
   "metadata": {},
   "source": [
    "2. Load Data that was saved using the main.py script"
   ]
  },
  {
   "cell_type": "code",
   "execution_count": 2,
   "metadata": {},
   "outputs": [],
   "source": [
    "X = np.load(\"../data/X.npy\")\n",
    "y = np.load(\"../data/Y.npy\")"
   ]
  },
  {
   "cell_type": "markdown",
   "metadata": {},
   "source": [
    "3. Split data into train and test:\n",
    "Test data will only be used at the end for inference,\n",
    "Validation data will be taken from the training data itself"
   ]
  },
  {
   "cell_type": "code",
   "execution_count": 3,
   "metadata": {},
   "outputs": [],
   "source": [
    "X_train,X_test,y_train,y_test = train_test_split(X,y,test_size=0.2,random_state=42)"
   ]
  },
  {
   "cell_type": "markdown",
   "metadata": {},
   "source": [
    "Intuition: I tried out classical ML models with raw data but I could only get an R2 score of 0.6. Since using fft we are able to convert the signal from time to frequency domain and get the frequency peaks, we can find some kind of a relationship (possibly linear) between the features and the labels. So I applied fft on the signal"
   ]
  },
  {
   "cell_type": "code",
   "execution_count": 38,
   "metadata": {},
   "outputs": [],
   "source": [
    "feats = np.abs(np.fft.fft(X,axis=1))\n",
    "feats_X_train,feats_X_test,feats_y_train,feats_y_test = train_test_split(feats,y,test_size=0.2,random_state=42)"
   ]
  },
  {
   "cell_type": "markdown",
   "metadata": {},
   "source": [
    "## Classical ML Models\n",
    "4. Try out various ML models"
   ]
  },
  {
   "cell_type": "code",
   "execution_count": 45,
   "metadata": {},
   "outputs": [
    {
     "data": {
      "text/plain": [
       "LinearRegression()"
      ]
     },
     "execution_count": 45,
     "metadata": {},
     "output_type": "execute_result"
    }
   ],
   "source": [
    "from sklearn.tree import DecisionTreeRegressor\n",
    "from sklearn.ensemble import RandomForestRegressor\n",
    "from xgboost import XGBRegressor\n",
    "from sklearn.linear_model import LinearRegression\n",
    "tree = DecisionTreeRegressor()\n",
    "tree.fit(feats_X_train,feats_y_train)\n",
    "\n",
    "\n",
    "rf = RandomForestRegressor()\n",
    "rf.fit(feats_X_train,feats_y_train)\n",
    "\n",
    "xgb = XGBRegressor()\n",
    "xgb.fit(feats_X_train,feats_y_train)\n",
    "\n",
    "lr = LinearRegression()\n",
    "lr.fit(feats_X_train,feats_y_train)"
   ]
  },
  {
   "cell_type": "code",
   "execution_count": 46,
   "metadata": {},
   "outputs": [],
   "source": [
    "y_tree = tree.predict(feats_X_test)\n",
    "y_forest = rf.predict(feats_X_test)\n",
    "y_xgb = xgb.predict(feats_X_test)\n",
    "y_linear = lr.predict(feats_X_test)"
   ]
  },
  {
   "cell_type": "code",
   "execution_count": 48,
   "metadata": {},
   "outputs": [
    {
     "name": "stdout",
     "output_type": "stream",
     "text": [
      "DTREE   MSE:  73.53600500000209\n",
      "DTREE   R2:  0.6432245429785599\n",
      "Forest   MSE:  34.917328657500995\n",
      "Forest   R2:  0.8305912064471357\n",
      "XGB   MSE:  37.68495654539357\n",
      "XGB   R2:  0.8171634753028054\n",
      "Linear Reg   MSE:  36.667593877442705\n",
      "Linear Reg   R2:  0.8220994251251369\n"
     ]
    }
   ],
   "source": [
    "from sklearn.metrics import mean_squared_error,r2_score\n",
    "\n",
    "def calc_metrics(y_true,y_preds,name):\n",
    "    r2 = r2_score(y_true,y_preds)\n",
    "    mse = mean_squared_error(y_true,y_preds)\n",
    "    print(name,\" \",\"MSE: \",mse)\n",
    "    print(name,\" \",\"R2: \",r2)\n",
    "\n",
    "\n",
    "    \n",
    "calc_metrics(feats_y_test,y_tree,\"DTREE\")\n",
    "calc_metrics(feats_y_test,y_forest,\"Forest\")\n",
    "calc_metrics(feats_y_test,y_xgb,\"XGB\")\n",
    "calc_metrics(feats_y_test,y_linear,\"Linear Reg\")"
   ]
  },
  {
   "cell_type": "markdown",
   "metadata": {},
   "source": [
    "As clearly visible we get the best results for the random forest regressor. Notably even linear regression gives good results since there exists a good linear realtionship between fft features and the frequency labels"
   ]
  },
  {
   "cell_type": "markdown",
   "metadata": {},
   "source": [
    "5. Set seed"
   ]
  },
  {
   "cell_type": "code",
   "execution_count": 49,
   "metadata": {},
   "outputs": [],
   "source": [
    "np.random.seed(42)\n",
    "set_seed(42)"
   ]
  },
  {
   "cell_type": "markdown",
   "metadata": {},
   "source": [
    "6. Define Model"
   ]
  },
  {
   "cell_type": "markdown",
   "metadata": {},
   "source": [
    "Architecture of the model was based on this paper : https://nanoconvergencejournal.springeropen.com/articles/10.1186/s40580-019-0197-y"
   ]
  },
  {
   "cell_type": "markdown",
   "metadata": {},
   "source": [
    "## Create Dense NN Model"
   ]
  },
  {
   "cell_type": "code",
   "execution_count": 70,
   "metadata": {},
   "outputs": [],
   "source": [
    "def create_model(config):\n",
    "    model = Sequential()\n",
    "    model.add(Input(shape=(20,)))\n",
    "    model.add(Dense(2,activation=\"linear\"))\n",
    "    model.add(Dense(2,activation=\"linear\"))\n",
    "    model.add(Dense(3,activation=\"linear\"))\n",
    "    model.add(Dense(1,activation=\"sigmoid\"))\n",
    "    model.compile(optimizer=config[\"opt\"],loss=config[\"loss\"])\n",
    "    return model"
   ]
  },
  {
   "cell_type": "code",
   "execution_count": 71,
   "metadata": {},
   "outputs": [],
   "source": [
    "config = {\n",
    "    \"opt\": Nadam(lr=0.001),\n",
    "    \"loss\":MeanSquaredError(),\n",
    "    \n",
    "}"
   ]
  },
  {
   "cell_type": "markdown",
   "metadata": {},
   "source": [
    "7. Set up callback to run best model"
   ]
  },
  {
   "cell_type": "code",
   "execution_count": 72,
   "metadata": {},
   "outputs": [],
   "source": [
    "checkpoint_callback = ModelCheckpoint(\"checkpoint/checkpoint.ckpt\",monitor=\"val_loss\",save_best_only=True,save_weights_only=True)"
   ]
  },
  {
   "cell_type": "markdown",
   "metadata": {},
   "source": [
    "8. Set up K Fold CV"
   ]
  },
  {
   "cell_type": "code",
   "execution_count": 73,
   "metadata": {},
   "outputs": [],
   "source": [
    "model_args = {\n",
    "    \"batch_size\":16,\n",
    "    \"epochs\": 30,\n",
    "    }"
   ]
  },
  {
   "cell_type": "code",
   "execution_count": 74,
   "metadata": {},
   "outputs": [],
   "source": [
    "\n",
    "def KFoldCrossValidate(X_train,y_train,n_splits,config,model_args=model_args,callbacks=None,model_func=create_model):\n",
    "    kf = KFold(n_splits=n_splits)\n",
    "    for ii,(train_index,val_index) in enumerate(kf.split(X_train)):\n",
    "        X_fold,X_fold_val = X_train[train_index],X_train[val_index]\n",
    "        y_fold,y_fold_val = y_train[train_index],y_train[val_index]\n",
    "        model = model_func(config)\n",
    "        if callbacks!=None:\n",
    "            history = model.fit(x=X_fold,y=y_fold,batch_size=model_args[\"batch_size\"],epochs=model_args[\"epochs\"],validation_data=(X_fold_val,y_fold_val),callbacks=callbacks)\n",
    "        else:\n",
    "            history = model.fit(x=X_fold,y=y_fold,batch_size=model_args[\"batch_size\"],epochs=model_args[\"epochs\"],validation_data=(X_fold_val,y_fold_val))\n",
    "        plt.plot(history.history[\"loss\"])\n",
    "        plt.plot(history.history[\"val_loss\"])\n",
    "        plt.title(\"Fold \",)\n",
    "        plt.legend([\"train_loss\",\"val_loss\"],loc=\"upper right\")\n",
    "        plt.show()"
   ]
  },
  {
   "cell_type": "markdown",
   "metadata": {},
   "source": [
    "1. One may wonder why no activations were used in the model. While experimenting, I did use a combination of various activations, but it just didnt seem to be as accurate as the classical machine learning models since the prediction function learnt was probably too complex.\n",
    "2. Without using any activations there is no non linearity introduced. Hence the model is as good as a regression model which takes away the use of a neural network, which is why my final choice of a model would be random forest.\n",
    "3. In addition to this RNN's were also tested with the raw data (as seen below) which gave pretty good result. Intuition was that RNN's take into account temporal information between individual timesteps, which is a good set of features when determining frequency\n",
    "4. Also, it is also noticed that labels have been scaled by dividing by 100. Through experiments as well as it was mentioned in the paper linked above that the network was able to be much more accurate when the label was scaled. This(div by 100) was the best working scale that I found."
   ]
  },
  {
   "cell_type": "code",
   "execution_count": 75,
   "metadata": {
    "scrolled": true
   },
   "outputs": [
    {
     "name": "stdout",
     "output_type": "stream",
     "text": [
      "Epoch 1/30\n",
      "400/400 [==============================] - 1s 829us/step - loss: 0.0502 - val_loss: 0.0158\n",
      "Epoch 2/30\n",
      "400/400 [==============================] - 0s 596us/step - loss: 0.0151 - val_loss: 0.0132\n",
      "Epoch 3/30\n",
      "400/400 [==============================] - 0s 590us/step - loss: 0.0128 - val_loss: 0.0107\n",
      "Epoch 4/30\n",
      "400/400 [==============================] - 0s 608us/step - loss: 0.0098 - val_loss: 0.0088\n",
      "Epoch 5/30\n",
      "400/400 [==============================] - 0s 605us/step - loss: 0.0077 - val_loss: 0.0064\n",
      "Epoch 6/30\n",
      "400/400 [==============================] - 0s 600us/step - loss: 0.0061 - val_loss: 0.0055\n",
      "Epoch 7/30\n",
      "400/400 [==============================] - 0s 581us/step - loss: 0.0054 - val_loss: 0.0050\n",
      "Epoch 8/30\n",
      "400/400 [==============================] - 0s 597us/step - loss: 0.0048 - val_loss: 0.0047\n",
      "Epoch 9/30\n",
      "400/400 [==============================] - 0s 605us/step - loss: 0.0047 - val_loss: 0.0045\n",
      "Epoch 10/30\n",
      "400/400 [==============================] - 0s 638us/step - loss: 0.0045 - val_loss: 0.0044\n",
      "Epoch 11/30\n",
      "400/400 [==============================] - 0s 592us/step - loss: 0.0043 - val_loss: 0.0045\n",
      "Epoch 12/30\n",
      "400/400 [==============================] - 0s 564us/step - loss: 0.0043 - val_loss: 0.0043\n",
      "Epoch 13/30\n",
      "400/400 [==============================] - 0s 598us/step - loss: 0.0044 - val_loss: 0.0043\n",
      "Epoch 14/30\n",
      "400/400 [==============================] - 0s 602us/step - loss: 0.0044 - val_loss: 0.0043\n",
      "Epoch 15/30\n",
      "400/400 [==============================] - 0s 597us/step - loss: 0.0043 - val_loss: 0.0043\n",
      "Epoch 16/30\n",
      "400/400 [==============================] - 0s 628us/step - loss: 0.0043 - val_loss: 0.0043\n",
      "Epoch 17/30\n",
      "400/400 [==============================] - 0s 590us/step - loss: 0.0044 - val_loss: 0.0043\n",
      "Epoch 18/30\n",
      "400/400 [==============================] - 0s 577us/step - loss: 0.0043 - val_loss: 0.0043\n",
      "Epoch 19/30\n",
      "400/400 [==============================] - 0s 601us/step - loss: 0.0044 - val_loss: 0.0043\n",
      "Epoch 20/30\n",
      "400/400 [==============================] - 0s 553us/step - loss: 0.0042 - val_loss: 0.0043\n",
      "Epoch 21/30\n",
      "400/400 [==============================] - 0s 619us/step - loss: 0.0042 - val_loss: 0.0043\n",
      "Epoch 22/30\n",
      "400/400 [==============================] - 0s 566us/step - loss: 0.0043 - val_loss: 0.0043\n",
      "Epoch 23/30\n",
      "400/400 [==============================] - 0s 606us/step - loss: 0.0043 - val_loss: 0.0043\n",
      "Epoch 24/30\n",
      "400/400 [==============================] - 0s 584us/step - loss: 0.0043 - val_loss: 0.0043\n",
      "Epoch 25/30\n",
      "400/400 [==============================] - 0s 595us/step - loss: 0.0043 - val_loss: 0.0044\n",
      "Epoch 26/30\n",
      "400/400 [==============================] - 0s 582us/step - loss: 0.0042 - val_loss: 0.0043\n",
      "Epoch 27/30\n",
      "400/400 [==============================] - 0s 572us/step - loss: 0.0043 - val_loss: 0.0043\n",
      "Epoch 28/30\n",
      "400/400 [==============================] - 0s 597us/step - loss: 0.0043 - val_loss: 0.0043\n",
      "Epoch 29/30\n",
      "400/400 [==============================] - 0s 568us/step - loss: 0.0044 - val_loss: 0.0043\n",
      "Epoch 30/30\n",
      "400/400 [==============================] - 0s 625us/step - loss: 0.0043 - val_loss: 0.0043\n"
     ]
    },
    {
     "data": {
      "image/png": "[encoded data removed]",
      "text/plain": [
       "<Figure size 432x288 with 1 Axes>"
      ]
     },
     "metadata": {
      "needs_background": "light"
     },
     "output_type": "display_data"
    },
    {
     "name": "stdout",
     "output_type": "stream",
     "text": [
      "Epoch 1/30\n",
      "400/400 [==============================] - 1s 736us/step - loss: 0.0226 - val_loss: 0.0130\n",
      "Epoch 2/30\n",
      "400/400 [==============================] - 0s 580us/step - loss: 0.0119 - val_loss: 0.0088\n",
      "Epoch 3/30\n",
      "400/400 [==============================] - 0s 643us/step - loss: 0.0084 - val_loss: 0.0060\n",
      "Epoch 4/30\n",
      "400/400 [==============================] - 0s 636us/step - loss: 0.0061 - val_loss: 0.0050\n",
      "Epoch 5/30\n",
      "400/400 [==============================] - 0s 558us/step - loss: 0.0051 - val_loss: 0.0044\n",
      "Epoch 6/30\n",
      "400/400 [==============================] - 0s 535us/step - loss: 0.0046 - val_loss: 0.0043\n",
      "Epoch 7/30\n",
      "400/400 [==============================] - 0s 575us/step - loss: 0.0044 - val_loss: 0.0042\n",
      "Epoch 8/30\n",
      "400/400 [==============================] - 0s 593us/step - loss: 0.0044 - val_loss: 0.0042\n",
      "Epoch 9/30\n",
      "400/400 [==============================] - 0s 601us/step - loss: 0.0045 - val_loss: 0.0041\n",
      "Epoch 10/30\n",
      "400/400 [==============================] - 0s 643us/step - loss: 0.0043 - val_loss: 0.0041\n",
      "Epoch 11/30\n",
      "400/400 [==============================] - 0s 726us/step - loss: 0.0042 - val_loss: 0.0041\n",
      "Epoch 12/30\n",
      "400/400 [==============================] - 0s 611us/step - loss: 0.0043 - val_loss: 0.0041\n",
      "Epoch 13/30\n",
      "400/400 [==============================] - 0s 570us/step - loss: 0.0044 - val_loss: 0.0041\n",
      "Epoch 14/30\n",
      "400/400 [==============================] - 0s 555us/step - loss: 0.0043 - val_loss: 0.0041\n",
      "Epoch 15/30\n",
      "400/400 [==============================] - 0s 544us/step - loss: 0.0044 - val_loss: 0.0041\n",
      "Epoch 16/30\n",
      "400/400 [==============================] - 0s 571us/step - loss: 0.0044 - val_loss: 0.0041\n",
      "Epoch 17/30\n",
      "400/400 [==============================] - 0s 828us/step - loss: 0.0044 - val_loss: 0.0041\n",
      "Epoch 18/30\n",
      "400/400 [==============================] - 0s 651us/step - loss: 0.0044 - val_loss: 0.0041\n",
      "Epoch 19/30\n",
      "400/400 [==============================] - 0s 686us/step - loss: 0.0043 - val_loss: 0.0041\n",
      "Epoch 20/30\n",
      "400/400 [==============================] - 0s 542us/step - loss: 0.0042 - val_loss: 0.0041\n",
      "Epoch 21/30\n",
      "400/400 [==============================] - 0s 550us/step - loss: 0.0042 - val_loss: 0.0041\n",
      "Epoch 22/30\n",
      "400/400 [==============================] - 0s 562us/step - loss: 0.0044 - val_loss: 0.0041\n",
      "Epoch 23/30\n",
      "400/400 [==============================] - 0s 586us/step - loss: 0.0044 - val_loss: 0.0041\n",
      "Epoch 24/30\n",
      "400/400 [==============================] - 0s 548us/step - loss: 0.0043 - val_loss: 0.0041\n",
      "Epoch 25/30\n",
      "400/400 [==============================] - 0s 530us/step - loss: 0.0043 - val_loss: 0.0043\n",
      "Epoch 26/30\n",
      "400/400 [==============================] - 0s 567us/step - loss: 0.0042 - val_loss: 0.0041\n",
      "Epoch 27/30\n",
      "400/400 [==============================] - 0s 555us/step - loss: 0.0044 - val_loss: 0.0043\n",
      "Epoch 28/30\n",
      "400/400 [==============================] - 0s 779us/step - loss: 0.0044 - val_loss: 0.0042\n",
      "Epoch 29/30\n",
      "400/400 [==============================] - 0s 538us/step - loss: 0.0044 - val_loss: 0.0041\n",
      "Epoch 30/30\n",
      "400/400 [==============================] - 0s 601us/step - loss: 0.0044 - val_loss: 0.0041\n"
     ]
    },
    {
     "data": {
      "image/png": "[encoded data removed]",
      "text/plain": [
       "<Figure size 432x288 with 1 Axes>"
      ]
     },
     "metadata": {
      "needs_background": "light"
     },
     "output_type": "display_data"
    },
    {
     "name": "stdout",
     "output_type": "stream",
     "text": [
      "Epoch 1/30\n",
      "400/400 [==============================] - 1s 749us/step - loss: 0.0273 - val_loss: 0.0141\n",
      "Epoch 2/30\n",
      "400/400 [==============================] - 0s 588us/step - loss: 0.0131 - val_loss: 0.0110\n",
      "Epoch 3/30\n",
      "400/400 [==============================] - 0s 555us/step - loss: 0.0104 - val_loss: 0.0085\n",
      "Epoch 4/30\n",
      "400/400 [==============================] - 0s 554us/step - loss: 0.0077 - val_loss: 0.0058\n",
      "Epoch 5/30\n",
      "400/400 [==============================] - 0s 578us/step - loss: 0.0055 - val_loss: 0.0048\n",
      "Epoch 6/30\n",
      "400/400 [==============================] - 0s 674us/step - loss: 0.0047 - val_loss: 0.0045\n",
      "Epoch 7/30\n",
      "400/400 [==============================] - 0s 625us/step - loss: 0.0043 - val_loss: 0.0044\n",
      "Epoch 8/30\n",
      "400/400 [==============================] - 0s 709us/step - loss: 0.0043 - val_loss: 0.0043\n",
      "Epoch 9/30\n",
      "400/400 [==============================] - 0s 656us/step - loss: 0.0044 - val_loss: 0.0043\n",
      "Epoch 10/30\n",
      "400/400 [==============================] - 0s 520us/step - loss: 0.0043 - val_loss: 0.0044\n",
      "Epoch 11/30\n",
      "400/400 [==============================] - 0s 696us/step - loss: 0.0041 - val_loss: 0.0044\n",
      "Epoch 12/30\n",
      "400/400 [==============================] - 0s 599us/step - loss: 0.0042 - val_loss: 0.0043\n",
      "Epoch 13/30\n",
      "400/400 [==============================] - 0s 730us/step - loss: 0.0043 - val_loss: 0.0043\n",
      "Epoch 14/30\n",
      "400/400 [==============================] - 0s 645us/step - loss: 0.0042 - val_loss: 0.0043\n",
      "Epoch 15/30\n",
      "400/400 [==============================] - 0s 690us/step - loss: 0.0043 - val_loss: 0.0044\n",
      "Epoch 16/30\n",
      "400/400 [==============================] - 0s 563us/step - loss: 0.0043 - val_loss: 0.0044\n",
      "Epoch 17/30\n",
      "400/400 [==============================] - 0s 550us/step - loss: 0.0044 - val_loss: 0.0043\n",
      "Epoch 18/30\n",
      "400/400 [==============================] - 0s 642us/step - loss: 0.0043 - val_loss: 0.0043\n",
      "Epoch 19/30\n",
      "400/400 [==============================] - 0s 549us/step - loss: 0.0042 - val_loss: 0.0045\n",
      "Epoch 20/30\n",
      "400/400 [==============================] - 0s 549us/step - loss: 0.0042 - val_loss: 0.0044\n",
      "Epoch 21/30\n",
      "400/400 [==============================] - 0s 704us/step - loss: 0.0042 - val_loss: 0.0043\n",
      "Epoch 22/30\n",
      "400/400 [==============================] - 0s 579us/step - loss: 0.0043 - val_loss: 0.0043\n",
      "Epoch 23/30\n",
      "400/400 [==============================] - 0s 748us/step - loss: 0.0042 - val_loss: 0.0044\n",
      "Epoch 24/30\n",
      "400/400 [==============================] - 0s 557us/step - loss: 0.0043 - val_loss: 0.0044\n",
      "Epoch 25/30\n",
      "400/400 [==============================] - 0s 564us/step - loss: 0.0041 - val_loss: 0.0045\n",
      "Epoch 26/30\n",
      "400/400 [==============================] - 0s 538us/step - loss: 0.0042 - val_loss: 0.0043\n",
      "Epoch 27/30\n",
      "400/400 [==============================] - 0s 599us/step - loss: 0.0042 - val_loss: 0.0045\n",
      "Epoch 28/30\n",
      "400/400 [==============================] - 0s 604us/step - loss: 0.0042 - val_loss: 0.0046\n",
      "Epoch 29/30\n",
      "400/400 [==============================] - 0s 675us/step - loss: 0.0043 - val_loss: 0.0044\n",
      "Epoch 30/30\n",
      "400/400 [==============================] - 0s 554us/step - loss: 0.0043 - val_loss: 0.0043\n"
     ]
    },
    {
     "data": {
      "image/png": "[encoded data removed]",
      "text/plain": [
       "<Figure size 432x288 with 1 Axes>"
      ]
     },
     "metadata": {
      "needs_background": "light"
     },
     "output_type": "display_data"
    },
    {
     "name": "stdout",
     "output_type": "stream",
     "text": [
      "Epoch 1/30\n",
      "400/400 [==============================] - 1s 746us/step - loss: 0.0130 - val_loss: 0.0062\n",
      "Epoch 2/30\n",
      "400/400 [==============================] - 0s 560us/step - loss: 0.0056 - val_loss: 0.0048\n",
      "Epoch 3/30\n",
      "400/400 [==============================] - 0s 564us/step - loss: 0.0045 - val_loss: 0.0045\n",
      "Epoch 4/30\n",
      "400/400 [==============================] - 0s 580us/step - loss: 0.0044 - val_loss: 0.0047\n",
      "Epoch 5/30\n",
      "400/400 [==============================] - 0s 818us/step - loss: 0.0041 - val_loss: 0.0046\n",
      "Epoch 6/30\n",
      "400/400 [==============================] - 0s 595us/step - loss: 0.0042 - val_loss: 0.0045\n",
      "Epoch 7/30\n",
      "400/400 [==============================] - 0s 662us/step - loss: 0.0042 - val_loss: 0.0045\n",
      "Epoch 8/30\n",
      "400/400 [==============================] - 0s 541us/step - loss: 0.0042 - val_loss: 0.0045\n",
      "Epoch 9/30\n",
      "400/400 [==============================] - 0s 534us/step - loss: 0.0044 - val_loss: 0.0046\n",
      "Epoch 10/30\n",
      "400/400 [==============================] - 0s 565us/step - loss: 0.0043 - val_loss: 0.0045\n",
      "Epoch 11/30\n",
      "400/400 [==============================] - 0s 572us/step - loss: 0.0041 - val_loss: 0.0045\n",
      "Epoch 12/30\n",
      "400/400 [==============================] - 0s 580us/step - loss: 0.0042 - val_loss: 0.0045\n",
      "Epoch 13/30\n",
      "400/400 [==============================] - 0s 590us/step - loss: 0.0043 - val_loss: 0.0045\n",
      "Epoch 14/30\n",
      "400/400 [==============================] - 0s 552us/step - loss: 0.0043 - val_loss: 0.0045\n",
      "Epoch 15/30\n",
      "400/400 [==============================] - 0s 740us/step - loss: 0.0043 - val_loss: 0.0045\n",
      "Epoch 16/30\n",
      "400/400 [==============================] - 0s 635us/step - loss: 0.0044 - val_loss: 0.0045\n",
      "Epoch 17/30\n",
      "400/400 [==============================] - 0s 581us/step - loss: 0.0044 - val_loss: 0.0045\n",
      "Epoch 18/30\n",
      "400/400 [==============================] - 0s 644us/step - loss: 0.0043 - val_loss: 0.0045\n",
      "Epoch 19/30\n",
      "400/400 [==============================] - 0s 554us/step - loss: 0.0041 - val_loss: 0.0045\n",
      "Epoch 20/30\n",
      "400/400 [==============================] - 0s 597us/step - loss: 0.0043 - val_loss: 0.0045\n",
      "Epoch 21/30\n",
      "400/400 [==============================] - 0s 605us/step - loss: 0.0043 - val_loss: 0.0045\n",
      "Epoch 22/30\n",
      "400/400 [==============================] - 0s 622us/step - loss: 0.0043 - val_loss: 0.0047\n",
      "Epoch 23/30\n",
      "400/400 [==============================] - 0s 562us/step - loss: 0.0042 - val_loss: 0.0045\n",
      "Epoch 24/30\n",
      "400/400 [==============================] - 0s 563us/step - loss: 0.0042 - val_loss: 0.0045\n",
      "Epoch 25/30\n",
      "400/400 [==============================] - 0s 670us/step - loss: 0.0041 - val_loss: 0.0046\n",
      "Epoch 26/30\n",
      "400/400 [==============================] - 0s 538us/step - loss: 0.0041 - val_loss: 0.0045\n",
      "Epoch 27/30\n",
      "400/400 [==============================] - 0s 566us/step - loss: 0.0042 - val_loss: 0.0047\n",
      "Epoch 28/30\n",
      "400/400 [==============================] - 0s 629us/step - loss: 0.0042 - val_loss: 0.0045\n",
      "Epoch 29/30\n",
      "400/400 [==============================] - 0s 552us/step - loss: 0.0043 - val_loss: 0.0045\n",
      "Epoch 30/30\n",
      "400/400 [==============================] - 0s 535us/step - loss: 0.0043 - val_loss: 0.0045\n"
     ]
    },
    {
     "data": {
      "image/png": "[encoded data removed]",
      "text/plain": [
       "<Figure size 432x288 with 1 Axes>"
      ]
     },
     "metadata": {
      "needs_background": "light"
     },
     "output_type": "display_data"
    },
    {
     "name": "stdout",
     "output_type": "stream",
     "text": [
      "Epoch 1/30\n",
      "400/400 [==============================] - 1s 739us/step - loss: 0.0165 - val_loss: 0.0082\n",
      "Epoch 2/30\n",
      "400/400 [==============================] - 0s 672us/step - loss: 0.0069 - val_loss: 0.0050\n",
      "Epoch 3/30\n",
      "400/400 [==============================] - 0s 661us/step - loss: 0.0047 - val_loss: 0.0045\n",
      "Epoch 4/30\n",
      "400/400 [==============================] - 0s 690us/step - loss: 0.0045 - val_loss: 0.0044\n",
      "Epoch 5/30\n",
      "400/400 [==============================] - 0s 551us/step - loss: 0.0043 - val_loss: 0.0044\n",
      "Epoch 6/30\n",
      "400/400 [==============================] - 0s 570us/step - loss: 0.0043 - val_loss: 0.0043\n",
      "Epoch 7/30\n",
      "400/400 [==============================] - 0s 563us/step - loss: 0.0041 - val_loss: 0.0043\n",
      "Epoch 8/30\n",
      "400/400 [==============================] - 0s 568us/step - loss: 0.0043 - val_loss: 0.0043\n",
      "Epoch 9/30\n",
      "400/400 [==============================] - 0s 762us/step - loss: 0.0044 - val_loss: 0.0043\n",
      "Epoch 10/30\n",
      "400/400 [==============================] - 0s 565us/step - loss: 0.0043 - val_loss: 0.0045\n",
      "Epoch 11/30\n",
      "400/400 [==============================] - 0s 608us/step - loss: 0.0041 - val_loss: 0.0043\n",
      "Epoch 12/30\n",
      "400/400 [==============================] - 0s 554us/step - loss: 0.0043 - val_loss: 0.0043\n",
      "Epoch 13/30\n",
      "400/400 [==============================] - 0s 660us/step - loss: 0.0043 - val_loss: 0.0043\n",
      "Epoch 14/30\n",
      "400/400 [==============================] - 0s 615us/step - loss: 0.0044 - val_loss: 0.0043\n",
      "Epoch 15/30\n",
      "400/400 [==============================] - 0s 593us/step - loss: 0.0043 - val_loss: 0.0044\n",
      "Epoch 16/30\n",
      "400/400 [==============================] - 0s 577us/step - loss: 0.0044 - val_loss: 0.0043\n",
      "Epoch 17/30\n",
      "400/400 [==============================] - 0s 557us/step - loss: 0.0043 - val_loss: 0.0043\n",
      "Epoch 18/30\n",
      "400/400 [==============================] - 0s 572us/step - loss: 0.0043 - val_loss: 0.0043\n",
      "Epoch 19/30\n",
      "400/400 [==============================] - 0s 614us/step - loss: 0.0042 - val_loss: 0.0044\n",
      "Epoch 20/30\n",
      "400/400 [==============================] - 0s 669us/step - loss: 0.0043 - val_loss: 0.0043\n",
      "Epoch 21/30\n",
      "400/400 [==============================] - 0s 624us/step - loss: 0.0043 - val_loss: 0.0043\n",
      "Epoch 22/30\n",
      "400/400 [==============================] - 0s 659us/step - loss: 0.0043 - val_loss: 0.0043\n",
      "Epoch 23/30\n",
      "400/400 [==============================] - 0s 564us/step - loss: 0.0042 - val_loss: 0.0044\n",
      "Epoch 24/30\n",
      "400/400 [==============================] - 0s 603us/step - loss: 0.0043 - val_loss: 0.0043\n",
      "Epoch 25/30\n",
      "400/400 [==============================] - 0s 566us/step - loss: 0.0042 - val_loss: 0.0043\n",
      "Epoch 26/30\n",
      "400/400 [==============================] - 0s 677us/step - loss: 0.0042 - val_loss: 0.0043\n",
      "Epoch 27/30\n",
      "400/400 [==============================] - 0s 564us/step - loss: 0.0042 - val_loss: 0.0043\n",
      "Epoch 28/30\n",
      "400/400 [==============================] - 0s 563us/step - loss: 0.0043 - val_loss: 0.0044\n",
      "Epoch 29/30\n",
      "400/400 [==============================] - 0s 854us/step - loss: 0.0043 - val_loss: 0.0043\n",
      "Epoch 30/30\n",
      "400/400 [==============================] - 0s 692us/step - loss: 0.0044 - val_loss: 0.0043\n"
     ]
    },
    {
     "data": {
      "image/png": "[encoded data removed]",
      "text/plain": [
       "<Figure size 432x288 with 1 Axes>"
      ]
     },
     "metadata": {
      "needs_background": "light"
     },
     "output_type": "display_data"
    }
   ],
   "source": [
    "KFoldCrossValidate(X_train,y_train/100,5,config,model_args,[checkpoint_callback])"
   ]
  },
  {
   "cell_type": "code",
   "execution_count": 76,
   "metadata": {},
   "outputs": [],
   "source": [
    "def infer(X_test,y_test,model_func,path_to_model,config=config,preproc_func=None):\n",
    "    model = model_func(config)\n",
    "    model.load_weights(path_to_model)\n",
    "    if preproc_func!=None:\n",
    "        X_test,y_test = preproc_func(X_test,y_test)\n",
    "    \n",
    "    y_pred = model.predict(X_test)\n",
    "    \n",
    "    print(\"MSE: \",mean_squared_error(y_test,y_pred))\n",
    "    print(\"R2: \",r2_score(y_test,y_pred))"
   ]
  },
  {
   "cell_type": "code",
   "execution_count": 77,
   "metadata": {},
   "outputs": [
    {
     "name": "stdout",
     "output_type": "stream",
     "text": [
      "MSE:  0.004047179274755937\n",
      "R2:  0.8036425509655155\n"
     ]
    }
   ],
   "source": [
    "infer(X_test,y_test/100,create_model,\"checkpoint/checkpoint.ckpt\")"
   ]
  },
  {
   "cell_type": "markdown",
   "metadata": {},
   "source": [
    "## Create Sequential RNN Model"
   ]
  },
  {
   "cell_type": "code",
   "execution_count": 30,
   "metadata": {},
   "outputs": [],
   "source": [
    "def create_rnn_model(config):\n",
    "    rnn_model = Sequential()\n",
    "    rnn_model.add(LSTM(16,input_shape=(20,1)))\n",
    "    rnn_model.add(Dense(10,activation=\"relu\"))\n",
    "\n",
    "    rnn_model.add(Dense(1,activation=\"sigmoid\"))\n",
    "    rnn_model.compile(optimizer=config[\"opt\"],loss=config[\"loss\"])\n",
    "    return rnn_model"
   ]
  },
  {
   "cell_type": "code",
   "execution_count": 31,
   "metadata": {},
   "outputs": [],
   "source": [
    "def preproc_rnn(X,y):\n",
    "    X_rnn = X.reshape(-1,20,1)\n",
    "    y_rnn = y/100\n",
    "    return X_rnn,y_rnn\n",
    "\n",
    "X_rnn,y_rnn = preproc_rnn(X_train,y_train)"
   ]
  },
  {
   "cell_type": "code",
   "execution_count": 32,
   "metadata": {},
   "outputs": [],
   "source": [
    "model_args_rnn = {\n",
    "    \"batch_size\": 16,\n",
    "    \"epochs\": 30\n",
    "    \n",
    "}"
   ]
  },
  {
   "cell_type": "code",
   "execution_count": 33,
   "metadata": {},
   "outputs": [],
   "source": [
    "rnn_cp = ModelCheckpoint(\"rnn_cp/rnn.ckpt\",monitor=\"val_loss\",save_best_only=True,save_weights_only=True)"
   ]
  },
  {
   "cell_type": "code",
   "execution_count": 35,
   "metadata": {},
   "outputs": [
    {
     "name": "stdout",
     "output_type": "stream",
     "text": [
      "Epoch 1/30\n",
      "400/400 [==============================] - 2s 3ms/step - loss: 0.0124 - val_loss: 0.0038\n",
      "Epoch 2/30\n",
      "400/400 [==============================] - 1s 3ms/step - loss: 0.0040 - val_loss: 0.0038\n",
      "Epoch 3/30\n",
      "400/400 [==============================] - 1s 3ms/step - loss: 0.0037 - val_loss: 0.0038\n",
      "Epoch 4/30\n",
      "400/400 [==============================] - 1s 3ms/step - loss: 0.0038 - val_loss: 0.0040\n",
      "Epoch 5/30\n",
      "400/400 [==============================] - 1s 3ms/step - loss: 0.0037 - val_loss: 0.0038\n",
      "Epoch 6/30\n",
      "400/400 [==============================] - 1s 3ms/step - loss: 0.0038 - val_loss: 0.0037\n",
      "Epoch 7/30\n",
      "400/400 [==============================] - 1s 3ms/step - loss: 0.0038 - val_loss: 0.0038\n",
      "Epoch 8/30\n",
      "400/400 [==============================] - 1s 3ms/step - loss: 0.0036 - val_loss: 0.0038\n",
      "Epoch 9/30\n",
      "400/400 [==============================] - 1s 3ms/step - loss: 0.0038 - val_loss: 0.0037\n",
      "Epoch 10/30\n",
      "400/400 [==============================] - 1s 3ms/step - loss: 0.0037 - val_loss: 0.0036\n",
      "Epoch 11/30\n",
      "400/400 [==============================] - 2s 4ms/step - loss: 0.0036 - val_loss: 0.0039\n",
      "Epoch 12/30\n",
      "400/400 [==============================] - 1s 3ms/step - loss: 0.0036 - val_loss: 0.0036\n",
      "Epoch 13/30\n",
      "400/400 [==============================] - 1s 3ms/step - loss: 0.0037 - val_loss: 0.0036\n",
      "Epoch 14/30\n",
      "400/400 [==============================] - 1s 3ms/step - loss: 0.0036 - val_loss: 0.0036\n",
      "Epoch 15/30\n",
      "400/400 [==============================] - 1s 3ms/step - loss: 0.0036 - val_loss: 0.0035\n",
      "Epoch 16/30\n",
      "400/400 [==============================] - 1s 3ms/step - loss: 0.0035 - val_loss: 0.0037\n",
      "Epoch 17/30\n",
      "400/400 [==============================] - 1s 3ms/step - loss: 0.0036 - val_loss: 0.0036\n",
      "Epoch 18/30\n",
      "400/400 [==============================] - 1s 3ms/step - loss: 0.0036 - val_loss: 0.0036\n",
      "Epoch 19/30\n",
      "400/400 [==============================] - 1s 3ms/step - loss: 0.0036 - val_loss: 0.0035\n",
      "Epoch 20/30\n",
      "400/400 [==============================] - 1s 3ms/step - loss: 0.0034 - val_loss: 0.0035\n",
      "Epoch 21/30\n",
      "400/400 [==============================] - 1s 3ms/step - loss: 0.0034 - val_loss: 0.0035\n",
      "Epoch 22/30\n",
      "400/400 [==============================] - 1s 4ms/step - loss: 0.0035 - val_loss: 0.0034\n",
      "Epoch 23/30\n",
      "400/400 [==============================] - 1s 3ms/step - loss: 0.0035 - val_loss: 0.0034\n",
      "Epoch 24/30\n",
      "400/400 [==============================] - 1s 3ms/step - loss: 0.0034 - val_loss: 0.0034\n",
      "Epoch 25/30\n",
      "400/400 [==============================] - 1s 3ms/step - loss: 0.0034 - val_loss: 0.0034\n",
      "Epoch 26/30\n",
      "400/400 [==============================] - 1s 3ms/step - loss: 0.0033 - val_loss: 0.0034\n",
      "Epoch 27/30\n",
      "400/400 [==============================] - 1s 3ms/step - loss: 0.0035 - val_loss: 0.0034\n",
      "Epoch 28/30\n",
      "400/400 [==============================] - 1s 3ms/step - loss: 0.0035 - val_loss: 0.0034\n",
      "Epoch 29/30\n",
      "400/400 [==============================] - 1s 3ms/step - loss: 0.0034 - val_loss: 0.0034\n",
      "Epoch 30/30\n",
      "400/400 [==============================] - 1s 3ms/step - loss: 0.0034 - val_loss: 0.0034\n"
     ]
    },
    {
     "data": {
      "image/png": "[encoded data removed]",
      "text/plain": [
       "<Figure size 432x288 with 1 Axes>"
      ]
     },
     "metadata": {
      "needs_background": "light"
     },
     "output_type": "display_data"
    },
    {
     "name": "stdout",
     "output_type": "stream",
     "text": [
      "Epoch 1/30\n",
      "400/400 [==============================] - 2s 3ms/step - loss: 0.0096 - val_loss: 0.0036\n",
      "Epoch 2/30\n",
      "400/400 [==============================] - 1s 3ms/step - loss: 0.0039 - val_loss: 0.0037\n",
      "Epoch 3/30\n",
      "400/400 [==============================] - 1s 3ms/step - loss: 0.0037 - val_loss: 0.0037\n",
      "Epoch 4/30\n",
      "400/400 [==============================] - 1s 3ms/step - loss: 0.0039 - val_loss: 0.0040\n",
      "Epoch 5/30\n",
      "400/400 [==============================] - 1s 3ms/step - loss: 0.0037 - val_loss: 0.0036\n",
      "Epoch 6/30\n",
      "400/400 [==============================] - 1s 3ms/step - loss: 0.0038 - val_loss: 0.0037\n",
      "Epoch 7/30\n",
      "400/400 [==============================] - 1s 3ms/step - loss: 0.0038 - val_loss: 0.0037\n",
      "Epoch 8/30\n",
      "400/400 [==============================] - 1s 3ms/step - loss: 0.0037 - val_loss: 0.0037\n",
      "Epoch 9/30\n",
      "400/400 [==============================] - 2s 4ms/step - loss: 0.0038 - val_loss: 0.0035\n",
      "Epoch 10/30\n",
      "400/400 [==============================] - 2s 4ms/step - loss: 0.0037 - val_loss: 0.0036\n",
      "Epoch 11/30\n",
      "400/400 [==============================] - 1s 3ms/step - loss: 0.0036 - val_loss: 0.0035\n",
      "Epoch 12/30\n",
      "400/400 [==============================] - 1s 3ms/step - loss: 0.0037 - val_loss: 0.0035\n",
      "Epoch 13/30\n",
      "400/400 [==============================] - 2s 4ms/step - loss: 0.0038 - val_loss: 0.0035\n",
      "Epoch 14/30\n",
      "400/400 [==============================] - 1s 3ms/step - loss: 0.0036 - val_loss: 0.0036\n",
      "Epoch 15/30\n",
      "400/400 [==============================] - 1s 3ms/step - loss: 0.0037 - val_loss: 0.0035\n",
      "Epoch 16/30\n",
      "400/400 [==============================] - 1s 3ms/step - loss: 0.0038 - val_loss: 0.0035\n",
      "Epoch 17/30\n",
      "400/400 [==============================] - 1s 3ms/step - loss: 0.0037 - val_loss: 0.0034\n",
      "Epoch 18/30\n",
      "400/400 [==============================] - 1s 3ms/step - loss: 0.0037 - val_loss: 0.0035\n",
      "Epoch 19/30\n",
      "400/400 [==============================] - 1s 3ms/step - loss: 0.0036 - val_loss: 0.0035\n",
      "Epoch 20/30\n",
      "400/400 [==============================] - 1s 3ms/step - loss: 0.0035 - val_loss: 0.0034\n",
      "Epoch 21/30\n",
      "400/400 [==============================] - 1s 3ms/step - loss: 0.0035 - val_loss: 0.0034\n",
      "Epoch 22/30\n",
      "400/400 [==============================] - 1s 3ms/step - loss: 0.0037 - val_loss: 0.0033\n",
      "Epoch 23/30\n",
      "400/400 [==============================] - 1s 3ms/step - loss: 0.0037 - val_loss: 0.0034\n",
      "Epoch 24/30\n",
      "400/400 [==============================] - 1s 3ms/step - loss: 0.0035 - val_loss: 0.0033\n",
      "Epoch 25/30\n",
      "400/400 [==============================] - 1s 3ms/step - loss: 0.0035 - val_loss: 0.0035\n",
      "Epoch 26/30\n",
      "400/400 [==============================] - 1s 3ms/step - loss: 0.0034 - val_loss: 0.0033\n",
      "Epoch 27/30\n",
      "400/400 [==============================] - 1s 3ms/step - loss: 0.0036 - val_loss: 0.0035\n",
      "Epoch 28/30\n",
      "400/400 [==============================] - 1s 3ms/step - loss: 0.0037 - val_loss: 0.0034\n",
      "Epoch 29/30\n",
      "400/400 [==============================] - 1s 3ms/step - loss: 0.0035 - val_loss: 0.0033\n",
      "Epoch 30/30\n",
      "400/400 [==============================] - 2s 4ms/step - loss: 0.0036 - val_loss: 0.0035\n"
     ]
    },
    {
     "data": {
      "image/png": "[encoded data removed]",
      "text/plain": [
       "<Figure size 432x288 with 1 Axes>"
      ]
     },
     "metadata": {
      "needs_background": "light"
     },
     "output_type": "display_data"
    },
    {
     "name": "stdout",
     "output_type": "stream",
     "text": [
      "Epoch 1/30\n",
      "400/400 [==============================] - 2s 3ms/step - loss: 0.0148 - val_loss: 0.0039\n",
      "Epoch 2/30\n",
      "400/400 [==============================] - 1s 3ms/step - loss: 0.0038 - val_loss: 0.0039\n",
      "Epoch 3/30\n",
      "400/400 [==============================] - 1s 3ms/step - loss: 0.0037 - val_loss: 0.0037\n",
      "Epoch 4/30\n",
      "400/400 [==============================] - 1s 3ms/step - loss: 0.0038 - val_loss: 0.0040\n",
      "Epoch 5/30\n",
      "400/400 [==============================] - 1s 3ms/step - loss: 0.0037 - val_loss: 0.0037\n",
      "Epoch 6/30\n",
      "400/400 [==============================] - 1s 3ms/step - loss: 0.0038 - val_loss: 0.0040\n",
      "Epoch 7/30\n",
      "400/400 [==============================] - 1s 3ms/step - loss: 0.0036 - val_loss: 0.0039\n",
      "Epoch 8/30\n",
      "400/400 [==============================] - 1s 3ms/step - loss: 0.0036 - val_loss: 0.0037\n",
      "Epoch 9/30\n",
      "400/400 [==============================] - 1s 3ms/step - loss: 0.0038 - val_loss: 0.0037\n",
      "Epoch 10/30\n",
      "400/400 [==============================] - 1s 3ms/step - loss: 0.0037 - val_loss: 0.0036\n",
      "Epoch 11/30\n",
      "400/400 [==============================] - 1s 3ms/step - loss: 0.0035 - val_loss: 0.0037\n",
      "Epoch 12/30\n",
      "400/400 [==============================] - 1s 3ms/step - loss: 0.0036 - val_loss: 0.0037\n",
      "Epoch 13/30\n",
      "400/400 [==============================] - 1s 3ms/step - loss: 0.0037 - val_loss: 0.0036\n",
      "Epoch 14/30\n",
      "400/400 [==============================] - 1s 3ms/step - loss: 0.0035 - val_loss: 0.0036\n",
      "Epoch 15/30\n",
      "400/400 [==============================] - 1s 3ms/step - loss: 0.0036 - val_loss: 0.0035\n",
      "Epoch 16/30\n",
      "400/400 [==============================] - 1s 3ms/step - loss: 0.0036 - val_loss: 0.0036\n",
      "Epoch 17/30\n",
      "400/400 [==============================] - 1s 3ms/step - loss: 0.0035 - val_loss: 0.0034\n",
      "Epoch 18/30\n",
      "400/400 [==============================] - 1s 3ms/step - loss: 0.0035 - val_loss: 0.0034\n",
      "Epoch 19/30\n",
      "400/400 [==============================] - 1s 3ms/step - loss: 0.0035 - val_loss: 0.0037\n",
      "Epoch 20/30\n",
      "400/400 [==============================] - 1s 3ms/step - loss: 0.0035 - val_loss: 0.0034\n",
      "Epoch 21/30\n",
      "400/400 [==============================] - 1s 3ms/step - loss: 0.0034 - val_loss: 0.0036\n",
      "Epoch 22/30\n",
      "400/400 [==============================] - 1s 3ms/step - loss: 0.0035 - val_loss: 0.0035\n",
      "Epoch 23/30\n",
      "400/400 [==============================] - 1s 3ms/step - loss: 0.0035 - val_loss: 0.0036\n",
      "Epoch 24/30\n",
      "400/400 [==============================] - 1s 3ms/step - loss: 0.0035 - val_loss: 0.0034\n",
      "Epoch 25/30\n",
      "400/400 [==============================] - 1s 3ms/step - loss: 0.0033 - val_loss: 0.0037\n",
      "Epoch 26/30\n",
      "400/400 [==============================] - 1s 3ms/step - loss: 0.0033 - val_loss: 0.0034\n",
      "Epoch 27/30\n",
      "400/400 [==============================] - 1s 3ms/step - loss: 0.0034 - val_loss: 0.0037\n",
      "Epoch 28/30\n",
      "400/400 [==============================] - 1s 3ms/step - loss: 0.0035 - val_loss: 0.0035\n",
      "Epoch 29/30\n",
      "400/400 [==============================] - 1s 4ms/step - loss: 0.0034 - val_loss: 0.0034\n",
      "Epoch 30/30\n",
      "400/400 [==============================] - 1s 3ms/step - loss: 0.0035 - val_loss: 0.0035\n"
     ]
    },
    {
     "data": {
      "image/png": "[encoded data removed]",
      "text/plain": [
       "<Figure size 432x288 with 1 Axes>"
      ]
     },
     "metadata": {
      "needs_background": "light"
     },
     "output_type": "display_data"
    },
    {
     "name": "stdout",
     "output_type": "stream",
     "text": [
      "Epoch 1/30\n",
      "400/400 [==============================] - 2s 3ms/step - loss: 0.0089 - val_loss: 0.0038\n",
      "Epoch 2/30\n",
      "400/400 [==============================] - 1s 3ms/step - loss: 0.0038 - val_loss: 0.0038\n",
      "Epoch 3/30\n",
      "400/400 [==============================] - 1s 3ms/step - loss: 0.0037 - val_loss: 0.0038\n",
      "Epoch 4/30\n",
      "400/400 [==============================] - 1s 3ms/step - loss: 0.0038 - val_loss: 0.0041\n",
      "Epoch 5/30\n",
      "400/400 [==============================] - 1s 4ms/step - loss: 0.0036 - val_loss: 0.0039\n",
      "Epoch 6/30\n",
      "400/400 [==============================] - 1s 3ms/step - loss: 0.0037 - val_loss: 0.0037\n",
      "Epoch 7/30\n",
      "400/400 [==============================] - 1s 3ms/step - loss: 0.0036 - val_loss: 0.0039\n",
      "Epoch 8/30\n",
      "400/400 [==============================] - 1s 3ms/step - loss: 0.0036 - val_loss: 0.0037\n",
      "Epoch 9/30\n",
      "400/400 [==============================] - 1s 3ms/step - loss: 0.0038 - val_loss: 0.0039\n",
      "Epoch 10/30\n",
      "400/400 [==============================] - 1s 3ms/step - loss: 0.0037 - val_loss: 0.0036\n",
      "Epoch 11/30\n",
      "400/400 [==============================] - 1s 3ms/step - loss: 0.0036 - val_loss: 0.0037\n",
      "Epoch 12/30\n",
      "400/400 [==============================] - 1s 3ms/step - loss: 0.0036 - val_loss: 0.0036\n",
      "Epoch 13/30\n",
      "400/400 [==============================] - 1s 3ms/step - loss: 0.0037 - val_loss: 0.0037\n",
      "Epoch 14/30\n",
      "400/400 [==============================] - 1s 3ms/step - loss: 0.0036 - val_loss: 0.0037\n",
      "Epoch 15/30\n",
      "400/400 [==============================] - 1s 3ms/step - loss: 0.0037 - val_loss: 0.0037\n",
      "Epoch 16/30\n",
      "400/400 [==============================] - 1s 3ms/step - loss: 0.0037 - val_loss: 0.0036\n",
      "Epoch 17/30\n",
      "400/400 [==============================] - 1s 3ms/step - loss: 0.0037 - val_loss: 0.0036\n",
      "Epoch 18/30\n",
      "400/400 [==============================] - 1s 3ms/step - loss: 0.0036 - val_loss: 0.0036\n",
      "Epoch 19/30\n",
      "400/400 [==============================] - 1s 3ms/step - loss: 0.0034 - val_loss: 0.0038\n",
      "Epoch 20/30\n",
      "400/400 [==============================] - 1s 3ms/step - loss: 0.0036 - val_loss: 0.0036\n",
      "Epoch 21/30\n",
      "400/400 [==============================] - 1s 3ms/step - loss: 0.0036 - val_loss: 0.0036\n",
      "Epoch 22/30\n",
      "400/400 [==============================] - 1s 3ms/step - loss: 0.0036 - val_loss: 0.0039\n",
      "Epoch 23/30\n",
      "400/400 [==============================] - 2s 4ms/step - loss: 0.0035 - val_loss: 0.0036\n",
      "Epoch 24/30\n",
      "400/400 [==============================] - 1s 3ms/step - loss: 0.0035 - val_loss: 0.0036\n",
      "Epoch 25/30\n",
      "400/400 [==============================] - 1s 3ms/step - loss: 0.0034 - val_loss: 0.0037\n",
      "Epoch 26/30\n",
      "400/400 [==============================] - 1s 3ms/step - loss: 0.0034 - val_loss: 0.0035\n",
      "Epoch 27/30\n",
      "400/400 [==============================] - 1s 3ms/step - loss: 0.0034 - val_loss: 0.0035\n",
      "Epoch 28/30\n",
      "400/400 [==============================] - 2s 4ms/step - loss: 0.0035 - val_loss: 0.0035\n",
      "Epoch 29/30\n",
      "400/400 [==============================] - 1s 3ms/step - loss: 0.0034 - val_loss: 0.0034\n",
      "Epoch 30/30\n",
      "400/400 [==============================] - 1s 3ms/step - loss: 0.0035 - val_loss: 0.0037\n"
     ]
    },
    {
     "data": {
      "image/png": "[encoded data removed]",
      "text/plain": [
       "<Figure size 432x288 with 1 Axes>"
      ]
     },
     "metadata": {
      "needs_background": "light"
     },
     "output_type": "display_data"
    },
    {
     "name": "stdout",
     "output_type": "stream",
     "text": [
      "Epoch 1/30\n",
      "400/400 [==============================] - 2s 4ms/step - loss: 0.0140 - val_loss: 0.0038\n",
      "Epoch 2/30\n",
      "400/400 [==============================] - 1s 3ms/step - loss: 0.0038 - val_loss: 0.0038\n",
      "Epoch 3/30\n",
      "400/400 [==============================] - 1s 3ms/step - loss: 0.0038 - val_loss: 0.0038\n",
      "Epoch 4/30\n",
      "400/400 [==============================] - 1s 3ms/step - loss: 0.0039 - val_loss: 0.0038\n",
      "Epoch 5/30\n",
      "400/400 [==============================] - 1s 3ms/step - loss: 0.0037 - val_loss: 0.0040\n",
      "Epoch 6/30\n",
      "400/400 [==============================] - 1s 3ms/step - loss: 0.0038 - val_loss: 0.0037\n",
      "Epoch 7/30\n",
      "400/400 [==============================] - 1s 3ms/step - loss: 0.0036 - val_loss: 0.0038\n",
      "Epoch 8/30\n",
      "400/400 [==============================] - 1s 3ms/step - loss: 0.0037 - val_loss: 0.0037\n",
      "Epoch 9/30\n",
      "400/400 [==============================] - 1s 3ms/step - loss: 0.0038 - val_loss: 0.0039\n",
      "Epoch 10/30\n",
      "400/400 [==============================] - 1s 3ms/step - loss: 0.0037 - val_loss: 0.0038\n",
      "Epoch 11/30\n",
      "400/400 [==============================] - 1s 3ms/step - loss: 0.0037 - val_loss: 0.0037\n",
      "Epoch 12/30\n",
      "400/400 [==============================] - 1s 3ms/step - loss: 0.0038 - val_loss: 0.0039\n",
      "Epoch 13/30\n",
      "400/400 [==============================] - 1s 3ms/step - loss: 0.0038 - val_loss: 0.0038\n",
      "Epoch 14/30\n",
      "400/400 [==============================] - 1s 3ms/step - loss: 0.0038 - val_loss: 0.0037\n",
      "Epoch 15/30\n",
      "400/400 [==============================] - 1s 3ms/step - loss: 0.0037 - val_loss: 0.0039\n",
      "Epoch 16/30\n",
      "400/400 [==============================] - 1s 3ms/step - loss: 0.0039 - val_loss: 0.0037\n",
      "Epoch 17/30\n",
      "400/400 [==============================] - 1s 3ms/step - loss: 0.0038 - val_loss: 0.0037\n",
      "Epoch 18/30\n",
      "400/400 [==============================] - 1s 3ms/step - loss: 0.0037 - val_loss: 0.0038\n",
      "Epoch 19/30\n",
      "400/400 [==============================] - 1s 3ms/step - loss: 0.0037 - val_loss: 0.0041\n",
      "Epoch 20/30\n",
      "400/400 [==============================] - 1s 3ms/step - loss: 0.0037 - val_loss: 0.0036\n",
      "Epoch 21/30\n",
      "400/400 [==============================] - 1s 3ms/step - loss: 0.0037 - val_loss: 0.0036\n",
      "Epoch 22/30\n",
      "400/400 [==============================] - 1s 3ms/step - loss: 0.0037 - val_loss: 0.0038\n",
      "Epoch 23/30\n",
      "400/400 [==============================] - 1s 3ms/step - loss: 0.0036 - val_loss: 0.0038\n",
      "Epoch 24/30\n",
      "400/400 [==============================] - 1s 3ms/step - loss: 0.0037 - val_loss: 0.0036\n",
      "Epoch 25/30\n",
      "400/400 [==============================] - 1s 3ms/step - loss: 0.0036 - val_loss: 0.0036\n",
      "Epoch 26/30\n",
      "400/400 [==============================] - 1s 3ms/step - loss: 0.0036 - val_loss: 0.0036\n",
      "Epoch 27/30\n",
      "400/400 [==============================] - 1s 3ms/step - loss: 0.0036 - val_loss: 0.0036\n",
      "Epoch 28/30\n",
      "400/400 [==============================] - 1s 3ms/step - loss: 0.0037 - val_loss: 0.0037\n",
      "Epoch 29/30\n",
      "400/400 [==============================] - 1s 3ms/step - loss: 0.0036 - val_loss: 0.0036\n",
      "Epoch 30/30\n",
      "400/400 [==============================] - 1s 3ms/step - loss: 0.0038 - val_loss: 0.0036\n"
     ]
    },
    {
     "data": {
      "image/png": "[encoded data removed]",
      "text/plain": [
       "<Figure size 432x288 with 1 Axes>"
      ]
     },
     "metadata": {
      "needs_background": "light"
     },
     "output_type": "display_data"
    }
   ],
   "source": [
    "KFoldCrossValidate(X_rnn,y_rnn,5,config,model_args_rnn,[rnn_cp],create_rnn_model)"
   ]
  },
  {
   "cell_type": "code",
   "execution_count": 37,
   "metadata": {
    "scrolled": true
   },
   "outputs": [
    {
     "name": "stdout",
     "output_type": "stream",
     "text": [
      "BEST RNN MODEL RESULTS: \n",
      "MSE:  0.0032888826220776207\n",
      "R2:  0.8404329143823379\n"
     ]
    }
   ],
   "source": [
    "from sklearn.metrics import r2_score,mean_squared_error\n",
    "print(\"BEST RNN MODEL RESULTS: \")\n",
    "infer(X_test,y_test,create_rnn_model,\"rnn_cp/rnn.ckpt\",preproc_func=preproc_rnn)"
   ]
  },
  {
   "cell_type": "markdown",
   "metadata": {},
   "source": [
    "## Conclusion\n",
    "Since my experiments made me realize that RNN was the best model option, I'll be adding it to the training script"
   ]
  }
 ],
 "metadata": {
  "kernelspec": {
   "display_name": "Python 3",
   "language": "python",
   "name": "python3"
  },
  "language_info": {
   "codemirror_mode": {
    "name": "ipython",
    "version": 3
   },
   "file_extension": ".py",
   "mimetype": "text/x-python",
   "name": "python",
   "nbconvert_exporter": "python",
   "pygments_lexer": "ipython3",
   "version": "3.8.5"
  }
 },
 "nbformat": 4,
 "nbformat_minor": 4
}
